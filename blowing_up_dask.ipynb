{
 "cells": [
  {
   "cell_type": "code",
   "execution_count": null,
   "id": "ad5648a9-54f7-40ea-8d5b-fcfebad0047c",
   "metadata": {
    "tags": []
   },
   "outputs": [],
   "source": [
    "import dask.dataframe as dd\n",
    "from coiled import Cluster\n",
    "from distributed import Client"
   ]
  },
  {
   "cell_type": "code",
   "execution_count": null,
   "id": "c7e78ead-a67a-47a1-812e-2d15a0a740ac",
   "metadata": {
    "tags": []
   },
   "outputs": [],
   "source": [
    "cluster = Cluster(\n",
    "    name=\"hendrik-pycon-demo\", \n",
    "    n_workers=20, \n",
    "    worker_vm_types=\"m6i.large\", \n",
    "    scheduler_vm_types=[\"m6i.large\"], \n",
    "    worker_disk_size=15, # Limiting disk to blow up Dask\n",
    "    shutdown_on_close=False,\n",
    "    scheduler_options={\"idle_timeout\": \"24 hours\"}\n",
    ")\n",
    "client = Client(cluster)"
   ]
  },
  {
   "cell_type": "code",
   "execution_count": null,
   "id": "d7e8af44-3171-427f-b13b-7118044b0bfa",
   "metadata": {
    "tags": []
   },
   "outputs": [],
   "source": [
    "ddf = dd.read_parquet(\n",
    "    \"s3://coiled-datasets/h2o-benchmark/pyarrow_strings/N_1e10_K_1e2/*.parquet\", \n",
    "    engine=\"pyarrow\", \n",
    "    storage_options={\"anon\": True}\n",
    ")\n",
    "ddf = ddf[[\"id4\", \"id5\", \"v3\"]]\n",
    "(\n",
    "    ddf.groupby([\"id4\", \"id5\"], dropna=False, observed=True)\n",
    "    .agg({\"v3\": [\"median\", \"std\"]}, shuffle=\"p2p\")\n",
    "    .compute()\n",
    ")\n",
    "medians = ddf.compute()"
   ]
  }
 ],
 "metadata": {
  "kernelspec": {
   "display_name": "Python 3 (ipykernel)",
   "language": "python",
   "name": "python3"
  },
  "language_info": {
   "codemirror_mode": {
    "name": "ipython",
    "version": 3
   },
   "file_extension": ".py",
   "mimetype": "text/x-python",
   "name": "python",
   "nbconvert_exporter": "python",
   "pygments_lexer": "ipython3",
   "version": "3.10.0"
  }
 },
 "nbformat": 4,
 "nbformat_minor": 5
}
